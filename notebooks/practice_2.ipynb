{
 "cells": [
  {
   "cell_type": "markdown",
   "metadata": {
    "collapsed": false
   },
   "source": [
    "# Práctica 2\n",
    "\n",
    "Para esta tarea, veremos los datos de vacunas de 2017. El archivo con estos datos está en `/data/NISPUF17.csv`. Para conocer los nombres de las variables de los datos tienes disponible una guía de usuarios de datos en `/data/NIS-PUF17-DUG.pdf`."
   ]
  },
  {
   "cell_type": "markdown",
   "metadata": {
    "collapsed": false
   },
   "source": [
    "## Pregunta 1\n",
    "\n",
    "Escribe una función llamada `proportion_of_education` que devuelva la proporción de niños en el dataset que tuvieron una madre con los niveles de educación: igual a menor de secundaria (<12), secundaria (12), mayor que secundaria pero sin ser universitaria graduada (>12) y con título universitario.\n",
    "\n",
    "Esta función debería devolver un diccionario en forma de (use los números correctos, no redondee los números):\n",
    "\n",
    "```python\n",
    "{\"menor que  secundaria\": 0.2,\n",
    " \"secundaria\": 0.4,\n",
    " \"mayor a secundaria pero no universitaria\": 0.2,\n",
    " \"universitaria\": 0.2}\n",
    "```\n"
   ]
  },
  {
   "cell_type": "markdown",
   "metadata": {},
   "source": [
    "**El siguiente código muestra la proporción de niños que tuvieron una madre con distintos niveles de educación:**"
   ]
  },
  {
   "cell_type": "code",
   "execution_count": 19,
   "metadata": {
    "ExecuteTime": {
     "end_time": "2023-05-21T22:00:42.430893575Z",
     "start_time": "2023-05-21T22:00:42.382088417Z"
    },
    "collapsed": false
   },
   "outputs": [
    {
     "data": {
      "text/plain": [
       "{'menor que secundaria': 0.10202002459160373,\n",
       " 'secundaria': 0.172352011241876,\n",
       " 'mayor a secundaria pero no universitaria': 0.24588090637625154,\n",
       " 'universitaria': 0.47974705779026877}"
      ]
     },
     "execution_count": 19,
     "metadata": {},
     "output_type": "execute_result"
    }
   ],
   "source": [
    "import pandas as pd\n",
    "\n",
    "def proportion_of_education():\n",
    "    # Leer el archivo de datos y cargar en un DataFrame\n",
    "    df = pd.read_csv('../data/NISPUF17.csv')\n",
    "\n",
    "    # Contar el número de niños para cada nivel de educación de la madre\n",
    "    education_counts = df['EDUC1'].value_counts().sort_index()\n",
    "\n",
    "    # Calcular el número total de niños\n",
    "    total_children = education_counts.sum()\n",
    "\n",
    "    # Calcular la proporción para cada nivel de educación\n",
    "    proportion = {\n",
    "        \"menor que secundaria\": education_counts[1] / total_children,\n",
    "        \"secundaria\": education_counts[2] / total_children,\n",
    "        \"mayor a secundaria pero no universitaria\": education_counts[3] / total_children,\n",
    "        \"universitaria\": education_counts[4] / total_children\n",
    "    }\n",
    "\n",
    "    return proportion\n",
    "\n",
    "proportion_of_education()"
   ]
  },
  {
   "cell_type": "markdown",
   "metadata": {
    "collapsed": false
   },
   "source": [
    "## Pregunta 2\n",
    "\n",
    "Exploremos la relación entre ser alimentado con leche materna (fed breast milk) cuando era niño y recibir una vacuna contra la influenza estacional (seasonal influenza) de un proveedor de atención médica.\n",
    "\n",
    "Devuelva una tupla del número promedio de vacunas contra la influenza para aquellos niños que sabemos que recibieron leche materna cuando eran niños y aquellos que sabemos que no."
   ]
  },
  {
   "cell_type": "code",
   "execution_count": 18,
   "metadata": {},
   "outputs": [
    {
     "data": {
      "text/plain": [
       "(1.8799187420058687, 1.5963945918878317)"
      ]
     },
     "execution_count": 18,
     "metadata": {},
     "output_type": "execute_result"
    }
   ],
   "source": [
    "import pandas as pd\n",
    "\n",
    "def average_influenza_doses():\n",
    "    # Leer el archivo de datos\n",
    "    df = pd.read_csv('../data/NISPUF17.csv')\n",
    "    # Filtrar el DataFrame para obtener dos grupos: leche materna y no leche materna\n",
    "    grupo_leche_materna = df[df['CBF_01'] == 1]  # Grupo que recibió leche materna\n",
    "    grupo_sin_leche_materna = df[df['CBF_01'] == 2]  # Grupo que no recibió leche materna\n",
    "    \n",
    "    # Número promedio de vacunas contra la influenza para cada grupo\n",
    "    prom_influenza_leche_materna = grupo_leche_materna['P_NUMFLU'].mean()\n",
    "    prom_influenza_sin_leche_materna = grupo_sin_leche_materna['P_NUMFLU'].mean()\n",
    "    \n",
    "    return (prom_influenza_leche_materna,  prom_influenza_sin_leche_materna)\n",
    "\n",
    "average_influenza_doses()"
   ]
  },
  {
   "cell_type": "markdown",
   "metadata": {
    "collapsed": false
   },
   "source": [
    "# Pregunta 3\n",
    "\n",
    "Sería interesante ver si hay evidencia de un vínculo entre la efectividad de la vacuna y el sexo del niño.\n",
    "Calcule el ratio entre el número de niños que contrajeron varicela (chickenpox) pero que fueron vacunados contra ella (al menos una dosis) versus los que fueron vacunados y no contrajeron varicela.\n",
    "\n",
    "Devuelve los resultados por sexo.\n",
    "\n",
    "Esta función debería devolver un diccionario en forma de:\n",
    "\n",
    "```python\n",
    "{\"male\": 0.2, \"female\": 0.4}\n",
    "```\n",
    "\n",
    "Nota: Para ayudar en la verificación, el valor de chickenpox_by_sex()['female'] comienza con los dígitos 0.0077."
   ]
  },
  {
   "cell_type": "code",
   "execution_count": 20,
   "metadata": {
    "collapsed": false
   },
   "outputs": [
    {
     "data": {
      "text/plain": [
       "{'male': 0.009675583380762664, 'female': 0.0077918259335489565}"
      ]
     },
     "execution_count": 20,
     "metadata": {},
     "output_type": "execute_result"
    }
   ],
   "source": [
    "import pandas as pd\n",
    "# Leer el archivo de datos\n",
    "    \n",
    "def chickenpox_by_sex():\n",
    "    # Leer el archivo de datos\n",
    "    df = pd.read_csv('../data/NISPUF17.csv')\n",
    "    \n",
    "    # Filtrar el DataFrame para obtener dos grupos: vacunados y contrajeron varicela, vacunados y no contrajeron varicela\n",
    "    vacunado_con_varicela = df[(df['P_NUMVRC'] >= 1) & (df['HAD_CPOX'] == 1)]\n",
    "    vacunado_sin_varicela = df[(df['P_NUMVRC'] >= 1) & (df['HAD_CPOX'] == 2)]\n",
    "    \n",
    "     # Calcular el ratio para cada grupo\n",
    "    ratio_male = len(vacunado_con_varicela[vacunado_con_varicela['SEX'] == 1]) / len(vacunado_sin_varicela[vacunado_sin_varicela['SEX'] == 1])\n",
    "    ratio_female = len(vacunado_con_varicela[vacunado_con_varicela['SEX'] == 2]) / len(vacunado_sin_varicela[vacunado_sin_varicela['SEX'] == 2])\n",
    "     \n",
    "    return {\"male\": ratio_male, \"female\": ratio_female}\n",
    "\n",
    "chickenpox_by_sex()"
   ]
  }
 ],
 "metadata": {
  "kernelspec": {
   "display_name": "Python 3",
   "language": "python",
   "name": "python3"
  },
  "language_info": {
   "codemirror_mode": {
    "name": "ipython",
    "version": 3
   },
   "file_extension": ".py",
   "mimetype": "text/x-python",
   "name": "python",
   "nbconvert_exporter": "python",
   "pygments_lexer": "ipython3",
   "version": "3.12.0"
  }
 },
 "nbformat": 4,
 "nbformat_minor": 0
}
