{
 "cells": [
  {
   "cell_type": "markdown",
   "metadata": {
    "collapsed": false
   },
   "source": [
    "# Práctica 2\n",
    "\n",
    "Para esta tarea, veremos los datos de vacunas de 2017. El archivo con estos datos está en `/data/NISPUF17.csv`. Para conocer los nombres de las variables de los datos tienes disponible una guía de usuarios de datos en `/data/NIS-PUF17-DUG.pdf`."
   ]
  },
  {
   "cell_type": "markdown",
   "metadata": {
    "collapsed": false
   },
   "source": [
    "## Pregunta 1\n",
    "\n",
    "Escribe una función llamada `proportion_of_education` que devuelva la proporción de niños en el dataset que tuvieron una madre con los niveles de educación: igual a menor de secundaria (<12), secundaria (12), mayor que secundaria pero sin ser universitaria graduada (>12) y con título universitario.\n",
    "\n",
    "Esta función debería devolver un diccionario en forma de (use los números correctos, no redondee los números):\n",
    "\n",
    "```python\n",
    "{\"menor que  secundaria\": 0.2,\n",
    " \"secundaria\": 0.4,\n",
    " \"mayor a secundaria pero no universitaria\": 0.2,\n",
    " \"universitaria\": 0.2}\n",
    "```\n"
   ]
  },
  {
   "cell_type": "markdown",
   "metadata": {},
   "source": [
    "**El siguiente código muestra la proporción de niños que tuvieron una madre con distintos niveles de educación:**"
   ]
  },
  {
   "cell_type": "code",
   "execution_count": 6,
   "metadata": {},
   "outputs": [
    {
     "name": "stdout",
     "output_type": "stream",
     "text": [
      "{'menor que secundaria': 0.10202002459160373, 'secundaria': 0.172352011241876, 'mayor a secundaria pero no universitaria': 0.24588090637625154, 'universitaria': 0.47974705779026877}\n"
     ]
    }
   ],
   "source": [
    "import pandas as pd\n",
    "\n",
    "\n",
    "def proportion_of_education():\n",
    "    #Cargar en un DataFrame\n",
    "    df = pd.read_csv('../data/NISPUF17.csv')\n",
    "\n",
    "    #Calculamos la cantidad total de niños\n",
    "    cant_ninos = len(df)\n",
    "\n",
    "    #Filtramos la cantidad de madres que hay por cada grupo\n",
    "    edu_madres = df['EDUC1'].value_counts().sort_index()\n",
    "\n",
    "    #Calculamos proporcion sobre el total\n",
    "    proporcion = edu_madres / cant_ninos\n",
    "\n",
    "    etiquetas = {\n",
    "        1: \"menor que secundaria\",\n",
    "        2: \"secundaria\",\n",
    "        3: \"mayor a secundaria pero no universitaria\",\n",
    "        4: \"universitaria\"\n",
    "    }\n",
    "\n",
    "    resultado = {etiquetas[i]: proporcion[i] for i in etiquetas}\n",
    "\n",
    "\n",
    "    \n",
    "    print(resultado)\n",
    "\n",
    "\n",
    "\n",
    "proportion_of_education()"
   ]
  },
  {
   "cell_type": "code",
   "execution_count": 4,
   "metadata": {
    "ExecuteTime": {
     "end_time": "2023-05-21T22:00:42.430893575Z",
     "start_time": "2023-05-21T22:00:42.382088417Z"
    },
    "collapsed": false
   },
   "outputs": [
    {
     "data": {
      "text/plain": [
       "{'menor que secundaria': 0.10202002459160373,\n",
       " 'secundaria': 0.172352011241876,\n",
       " 'mayor a secundaria pero no universitaria': 0.24588090637625154,\n",
       " 'universitaria': 0.47974705779026877}"
      ]
     },
     "execution_count": 4,
     "metadata": {},
     "output_type": "execute_result"
    }
   ],
   "source": [
    "import pandas as pd\n",
    "\n",
    "def proportion_of_education():\n",
    "    # Leer el archivo de datos y cargar en un DataFrame\n",
    "    df = pd.read_csv('../data/NISPUF17.csv')\n",
    "\n",
    "    # Contar el número de niños para cada nivel de educación de la madre\n",
    "    education_counts = df['EDUC1'].value_counts().sort_index()\n",
    "\n",
    "    # Calcular el número total de niños\n",
    "    total_children = education_counts.sum()\n",
    "\n",
    "    # Calcular la proporción para cada nivel de educación\n",
    "    proportion = {\n",
    "        \"menor que secundaria\": education_counts[1] / total_children,\n",
    "        \"secundaria\": education_counts[2] / total_children,\n",
    "        \"mayor a secundaria pero no universitaria\": education_counts[3] / total_children,\n",
    "        \"universitaria\": education_counts[4] / total_children\n",
    "    }\n",
    "\n",
    "    return proportion\n",
    "\n",
    "proportion_of_education()"
   ]
  },
  {
   "cell_type": "code",
   "execution_count": 5,
   "metadata": {},
   "outputs": [
    {
     "ename": "NameError",
     "evalue": "name 'df' is not defined",
     "output_type": "error",
     "traceback": [
      "\u001b[1;31m---------------------------------------------------------------------------\u001b[0m",
      "\u001b[1;31mNameError\u001b[0m                                 Traceback (most recent call last)",
      "\u001b[1;32mc:\\Users\\Estefanía\\Desktop\\UCU\\PROG. ORIENTADA A DATOS\\Practica2\\practica2Lafon\\notebooks\\practice_2.ipynb Cell 5\u001b[0m line \u001b[0;36m1\n\u001b[1;32m----> <a href='vscode-notebook-cell:/c%3A/Users/Estefan%C3%ADa/Desktop/UCU/PROG.%20ORIENTADA%20A%20DATOS/Practica2/practica2Lafon/notebooks/practice_2.ipynb#X12sZmlsZQ%3D%3D?line=0'>1</a>\u001b[0m \u001b[39mset\u001b[39m (df[\u001b[39m'\u001b[39m\u001b[39mEDUC1\u001b[39m\u001b[39m'\u001b[39m])\n",
      "\u001b[1;31mNameError\u001b[0m: name 'df' is not defined"
     ]
    }
   ],
   "source": [
    "set (df['EDUC1'])"
   ]
  },
  {
   "cell_type": "markdown",
   "metadata": {
    "collapsed": false
   },
   "source": [
    "## Pregunta 2\n",
    "\n",
    "Exploremos la relación entre ser alimentado con leche materna (fed breast milk) cuando era niño y recibir una vacuna contra la influenza estacional (seasonal influenza) de un proveedor de atención médica.\n",
    "\n",
    "Devuelva una tupla del número promedio de vacunas contra la influenza para aquellos niños que sabemos que recibieron leche materna cuando eran niños y aquellos que sabemos que no."
   ]
  },
  {
   "cell_type": "code",
   "execution_count": 18,
   "metadata": {},
   "outputs": [
    {
     "data": {
      "text/plain": [
       "(1.8799187420058687, 1.5963945918878317)"
      ]
     },
     "execution_count": 18,
     "metadata": {},
     "output_type": "execute_result"
    }
   ],
   "source": [
    "import pandas as pd\n",
    "\n",
    "def average_influenza_doses():\n",
    "    # Leer el archivo de datos\n",
    "    df = pd.read_csv('../data/NISPUF17.csv')\n",
    "    # Filtrar el DataFrame para obtener dos grupos: leche materna y no leche materna\n",
    "    grupo_leche_materna = df[df['CBF_01'] == 1]  # Grupo que recibió leche materna\n",
    "    grupo_sin_leche_materna = df[df['CBF_01'] == 2]  # Grupo que no recibió leche materna\n",
    "    \n",
    "    # Número promedio de vacunas contra la influenza para cada grupo\n",
    "    prom_influenza_leche_materna = grupo_leche_materna['P_NUMFLU'].mean()\n",
    "    prom_influenza_sin_leche_materna = grupo_sin_leche_materna['P_NUMFLU'].mean()\n",
    "    \n",
    "    return (prom_influenza_leche_materna,  prom_influenza_sin_leche_materna)\n",
    "\n",
    "average_influenza_doses()"
   ]
  },
  {
   "cell_type": "markdown",
   "metadata": {
    "collapsed": false
   },
   "source": [
    "# Pregunta 3\n",
    "\n",
    "Sería interesante ver si hay evidencia de un vínculo entre la efectividad de la vacuna y el sexo del niño.\n",
    "Calcule el ratio entre el número de niños que contrajeron varicela (chickenpox) pero que fueron vacunados contra ella (al menos una dosis) versus los que fueron vacunados y no contrajeron varicela.\n",
    "\n",
    "Devuelve los resultados por sexo.\n",
    "\n",
    "Esta función debería devolver un diccionario en forma de:\n",
    "\n",
    "```python\n",
    "{\"male\": 0.2, \"female\": 0.4}\n",
    "```\n",
    "\n",
    "Nota: Para ayudar en la verificación, el valor de chickenpox_by_sex()['female'] comienza con los dígitos 0.0077."
   ]
  },
  {
   "cell_type": "code",
   "execution_count": null,
   "metadata": {
    "collapsed": false
   },
   "outputs": [],
   "source": [
    "def chickenpox_by_sex():\n",
    "    pass\n",
    "    # Tu código aquí\n",
    "\n",
    "\n",
    "chickenpox_by_sex()"
   ]
  }
 ],
 "metadata": {
  "kernelspec": {
   "display_name": "Python 3",
   "language": "python",
   "name": "python3"
  },
  "language_info": {
   "codemirror_mode": {
    "name": "ipython",
    "version": 3
   },
   "file_extension": ".py",
   "mimetype": "text/x-python",
   "name": "python",
   "nbconvert_exporter": "python",
   "pygments_lexer": "ipython3",
   "version": "3.12.0"
  }
 },
 "nbformat": 4,
 "nbformat_minor": 0
}
